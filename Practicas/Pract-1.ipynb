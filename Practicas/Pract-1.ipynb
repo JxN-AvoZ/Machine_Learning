{
 "cells": [
  {
   "cell_type": "markdown",
   "metadata": {},
   "source": [
    "<h1><center>Practice 1</center></h1>\n",
    "<h2><center>Error Calculation</center></h2>\n",
    "<h3><center>Juan Manuel Aviña Muñoz</center></h3>"
   ]
  },
  {
   "cell_type": "markdown",
   "metadata": {},
   "source": [
    "# Import libraries"
   ]
  },
  {
   "cell_type": "code",
   "execution_count": 1,
   "metadata": {},
   "outputs": [],
   "source": [
    "import numpy as np\n",
    "import pandas as pd\n",
    "import matplotlib.pyplot as plt"
   ]
  },
  {
   "cell_type": "markdown",
   "metadata": {},
   "source": [
    "# Load Data Set"
   ]
  },
  {
   "cell_type": "code",
   "execution_count": 2,
   "metadata": {},
   "outputs": [
    {
     "name": "stdout",
     "output_type": "stream",
     "text": [
      "Total instances: 126\n",
      "Total features: 6\n",
      "           Date Close/Last    Volume     Open      High      Low\n",
      "0    12/02/2022    $105.05   7916878  $102.02   $105.54  $101.82\n",
      "1    12/01/2022    $103.37   7452313  $102.33   $103.56  $101.95\n",
      "2    11/30/2022     $102.2  15000770   $99.05   $102.56   $98.52\n",
      "3    11/29/2022     $98.66   4423921   $98.96    $99.33    $98.2\n",
      "4    11/28/2022     $98.66   5257862   $98.99   $100.16   $98.56\n",
      "..          ...        ...       ...      ...       ...      ...\n",
      "121  06/10/2022     $75.67   8695476   $77.02    $77.79   $75.66\n",
      "122  06/09/2022     $78.91  13248100   $77.97    $80.27   $77.73\n",
      "123  06/08/2022     $78.47   5178253    $78.9  $79.7698   $78.26\n",
      "124  06/07/2022     $79.47   5517101   $78.57    $79.75   $78.26\n",
      "125  06/06/2022     $78.98   7239429    $79.7  $81.2999   $78.53\n",
      "\n",
      "[126 rows x 6 columns]\n"
     ]
    }
   ],
   "source": [
    "# Load data from a CSV file into a Pandas DataFrame\n",
    "data = pd.read_csv(\"../DB/Nasdaq.csv\")\n",
    "\n",
    "print(f\"Total instances: {data.shape[0]}\")\n",
    "print(f\"Total features: {data.shape[1]}\")\n",
    "\n",
    "print(data)"
   ]
  },
  {
   "cell_type": "code",
   "execution_count": 3,
   "metadata": {},
   "outputs": [
    {
     "name": "stdout",
     "output_type": "stream",
     "text": [
      "<class 'pandas.core.frame.DataFrame'>\n",
      "RangeIndex: 126 entries, 0 to 125\n",
      "Data columns (total 6 columns):\n",
      " #   Column      Non-Null Count  Dtype \n",
      "---  ------      --------------  ----- \n",
      " 0   Date        126 non-null    object\n",
      " 1   Close/Last  126 non-null    object\n",
      " 2   Volume      126 non-null    int64 \n",
      " 3   Open        126 non-null    object\n",
      " 4   High        126 non-null    object\n",
      " 5   Low         126 non-null    object\n",
      "dtypes: int64(1), object(5)\n",
      "memory usage: 6.0+ KB\n"
     ]
    }
   ],
   "source": [
    "data.info()"
   ]
  },
  {
   "cell_type": "markdown",
   "metadata": {},
   "source": [
    "# Clean our dataset from unnecesary symbols"
   ]
  },
  {
   "cell_type": "code",
   "execution_count": 4,
   "metadata": {},
   "outputs": [
    {
     "name": "stdout",
     "output_type": "stream",
     "text": [
      "<class 'pandas.core.frame.DataFrame'>\n",
      "RangeIndex: 126 entries, 0 to 125\n",
      "Data columns (total 6 columns):\n",
      " #   Column      Non-Null Count  Dtype  \n",
      "---  ------      --------------  -----  \n",
      " 0   Date        126 non-null    object \n",
      " 1   Close/Last  126 non-null    float64\n",
      " 2   Volume      126 non-null    int64  \n",
      " 3   Open        126 non-null    float64\n",
      " 4   High        126 non-null    float64\n",
      " 5   Low         126 non-null    float64\n",
      "dtypes: float64(4), int64(1), object(1)\n",
      "memory usage: 6.0+ KB\n"
     ]
    },
    {
     "name": "stderr",
     "output_type": "stream",
     "text": [
      "/tmp/ipykernel_11160/2914897821.py:3: FutureWarning: The default value of regex will change from True to False in a future version. In addition, single character regular expressions will *not* be treated as literal strings when regex=True.\n",
      "  data['Close/Last'] = data['Close/Last'].str.replace('$', '').astype(float)\n",
      "/tmp/ipykernel_11160/2914897821.py:4: FutureWarning: The default value of regex will change from True to False in a future version. In addition, single character regular expressions will *not* be treated as literal strings when regex=True.\n",
      "  data['Open'] = data['Open'].str.replace('$', '').astype(float)\n",
      "/tmp/ipykernel_11160/2914897821.py:5: FutureWarning: The default value of regex will change from True to False in a future version. In addition, single character regular expressions will *not* be treated as literal strings when regex=True.\n",
      "  data['High'] = data['High'].str.replace('$', '').astype(float)\n",
      "/tmp/ipykernel_11160/2914897821.py:6: FutureWarning: The default value of regex will change from True to False in a future version. In addition, single character regular expressions will *not* be treated as literal strings when regex=True.\n",
      "  data['Low'] = data['Low'].str.replace('$', '').astype(float)\n"
     ]
    }
   ],
   "source": [
    "# Remove '$' symbol from our dataset and convert to float\n",
    "\n",
    "data['Close/Last'] = data['Close/Last'].str.replace('$', '').astype(float)\n",
    "data['Open'] = data['Open'].str.replace('$', '').astype(float)\n",
    "data['High'] = data['High'].str.replace('$', '').astype(float)\n",
    "data['Low'] = data['Low'].str.replace('$', '').astype(float)\n",
    "\n",
    "data.info()"
   ]
  },
  {
   "cell_type": "code",
   "execution_count": 5,
   "metadata": {},
   "outputs": [
    {
     "name": "stdout",
     "output_type": "stream",
     "text": [
      "           Date  Close/Last    Volume    Open      High     Low\n",
      "0    12/02/2022      105.05   7916878  102.02  105.5400  101.82\n",
      "1    12/01/2022      103.37   7452313  102.33  103.5600  101.95\n",
      "2    11/30/2022      102.20  15000770   99.05  102.5600   98.52\n",
      "3    11/29/2022       98.66   4423921   98.96   99.3300   98.20\n",
      "4    11/28/2022       98.66   5257862   98.99  100.1600   98.56\n",
      "..          ...         ...       ...     ...       ...     ...\n",
      "121  06/10/2022       75.67   8695476   77.02   77.7900   75.66\n",
      "122  06/09/2022       78.91  13248100   77.97   80.2700   77.73\n",
      "123  06/08/2022       78.47   5178253   78.90   79.7698   78.26\n",
      "124  06/07/2022       79.47   5517101   78.57   79.7500   78.26\n",
      "125  06/06/2022       78.98   7239429   79.70   81.2999   78.53\n",
      "\n",
      "[126 rows x 6 columns]\n"
     ]
    }
   ],
   "source": [
    "print(data)"
   ]
  },
  {
   "cell_type": "markdown",
   "metadata": {},
   "source": [
    "# Polynomial Regresion"
   ]
  },
  {
   "cell_type": "code",
   "execution_count": 6,
   "metadata": {},
   "outputs": [],
   "source": [
    "degree = 2\n",
    "X = data[\"Close/Last\"].values.reshape(-1, 1)\n",
    "y = data[\"High\"]"
   ]
  },
  {
   "cell_type": "code",
   "execution_count": 7,
   "metadata": {},
   "outputs": [],
   "source": [
    "X_poly = np.column_stack([X ** i for i in range(degree + 1)])"
   ]
  },
  {
   "cell_type": "code",
   "execution_count": 8,
   "metadata": {},
   "outputs": [],
   "source": [
    "coefficients = np.linalg.inv(X_poly.T @ X_poly) @ X_poly.T @ y\n",
    "\n",
    "y_pred = X_poly @ coefficients"
   ]
  },
  {
   "cell_type": "code",
   "execution_count": 9,
   "metadata": {},
   "outputs": [
    {
     "data": {
      "image/png": "[encoded data removed]",
      "text/plain": [
       "<Figure size 640x480 with 1 Axes>"
      ]
     },
     "metadata": {},
     "output_type": "display_data"
    }
   ],
   "source": [
    "plt.scatter(X, y, color='blue', label='Actual Data')\n",
    "plt.plot(X, y_pred, color='red', label='Polynomial Regression')\n",
    "plt.xlabel('X')\n",
    "plt.ylabel('Y')\n",
    "plt.legend()\n",
    "plt.show()"
   ]
  },
  {
   "cell_type": "markdown",
   "metadata": {},
   "source": [
    "<h1><center>Error Calculation</center></h1>"
   ]
  },
  {
   "cell_type": "markdown",
   "metadata": {},
   "source": [
    "# Data"
   ]
  },
  {
   "cell_type": "code",
   "execution_count": 10,
   "metadata": {},
   "outputs": [],
   "source": [
    "real_values = data[\"Close/Last\"]\n",
    "predict_values = y_pred"
   ]
  },
  {
   "cell_type": "markdown",
   "metadata": {},
   "source": [
    "# Mean Squared Error (MSE)"
   ]
  },
  {
   "cell_type": "code",
   "execution_count": 11,
   "metadata": {},
   "outputs": [
    {
     "name": "stdout",
     "output_type": "stream",
     "text": [
      "Mean Squared Error: 1.0576400104836616\n"
     ]
    }
   ],
   "source": [
    "squared_errors = [(real - pred) ** 2 for real, pred in zip(real_values, predict_values)]\n",
    "mse = sum(squared_errors) / len(real_values)\n",
    "\n",
    "print(f\"Mean Squared Error: {mse}\")"
   ]
  },
  {
   "cell_type": "markdown",
   "metadata": {},
   "source": [
    "# Mean Absolute Error (MAE)"
   ]
  },
  {
   "cell_type": "code",
   "execution_count": 12,
   "metadata": {},
   "outputs": [
    {
     "name": "stdout",
     "output_type": "stream",
     "text": [
      "Mean Absolute Error: 1.0152198414908933\n"
     ]
    }
   ],
   "source": [
    "n = len(real_values)\n",
    "mae = sum(abs(real - pred) for real, pred in zip(real_values, predict_values)) / n\n",
    "\n",
    "print(f\"Mean Absolute Error: {mae}\")"
   ]
  },
  {
   "cell_type": "markdown",
   "metadata": {},
   "source": [
    "# Determination Coeficient (R²)"
   ]
  },
  {
   "cell_type": "code",
   "execution_count": 13,
   "metadata": {},
   "outputs": [
    {
     "name": "stdout",
     "output_type": "stream",
     "text": [
      "Determination Coeficient: 0.9781858515769403\n"
     ]
    }
   ],
   "source": [
    "media_real_values = real_values.mean()\n",
    "tss = ((real_values - media_real_values) ** 2).sum()\n",
    "sse = ((real_values - predict_values) ** 2).sum()\n",
    "r_cuadrado = 1 - (sse / tss)\n",
    "\n",
    "print(f\"Determination Coeficient: {r_cuadrado}\")"
   ]
  }
 ],
 "metadata": {
  "kernelspec": {
   "display_name": "tf",
   "language": "python",
   "name": "python3"
  },
  "language_info": {
   "codemirror_mode": {
    "name": "ipython",
    "version": 3
   },
   "file_extension": ".py",
   "mimetype": "text/x-python",
   "name": "python",
   "nbconvert_exporter": "python",
   "pygments_lexer": "ipython3",
   "version": "3.9.16"
  },
  "orig_nbformat": 4
 },
 "nbformat": 4,
 "nbformat_minor": 2
}
